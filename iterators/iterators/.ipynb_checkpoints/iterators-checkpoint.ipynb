{
 "cells": [
  {
   "cell_type": "markdown",
   "metadata": {},
   "source": [
    "# Iterators"
   ]
  },
  {
   "cell_type": "markdown",
   "metadata": {},
   "source": [
    "1. Сделайте генератор, который принимает на вход путь к фаста файлу и выдаёт по очереди пары id последовательности (то, что после \">\") и последовательности. (5 баллов) \n",
    "Пример использования на рисунке Example1. Обратите внимание, что функция должна возвращать НЕ список, а генератор! Биопитон и другие библиотеки не используем. "
   ]
  },
  {
   "cell_type": "code",
   "execution_count": 1,
   "metadata": {
    "pycharm": {
     "name": "#%%\n"
    }
   },
   "outputs": [],
   "source": [
    "def fasta_gen(path: str):\n",
    "    sequences = {}\n",
    "    with open(path) as fa:\n",
    "        for line in fa:\n",
    "            if line.startswith(\">\"):\n",
    "                name = line.strip()\n",
    "            else:\n",
    "                if name not in sequences:\n",
    "                    sequences[name] = ''\n",
    "                sequences[name] += line.strip()\n",
    "\n",
    "    for key, value in sequences.items():\n",
    "        yield key, value"
   ]
  },
  {
   "cell_type": "markdown",
   "metadata": {},
   "source": [
    "Test"
   ]
  },
  {
   "cell_type": "code",
   "execution_count": 2,
   "metadata": {},
   "outputs": [
    {
     "name": "stdout",
     "output_type": "stream",
     "text": [
      ">Seq1 MVELKEPFATLWRGKDPFEEVKTLQGEVFRELETRRTLRFEMAGKSYFLKWHRGTTLKEIIKNLLSLRMPVLGADREWNAIHRLRDVGVDTMYGVAFGEKGMNPLTRTSFIITEDLTPTISLEDYCADWATNPPDVRVKRMLIKRVATMVRDMHAAGINHRDCYICHFLLHLPFSGKEEELKISVIDLHRAQLRTRVPRRWRDKDLIGLYFSSMNIGLTQRDIWRFMKVYFAAPLKDILKQEQGLLSQAEAKATKIRERTIRKSL\n",
      ">Seq2 MKLMLAEPFKSLWAGRDAFAEVEALKGEVYRELEARRTLRTEVDGRGFFVKIHRGIGWGEIFKNLFTAKLPVLGAGQEWKAIQRLQEVGVPTMTAVAYGEKGSNPADQHSFIVTEELAPTVSLEDFSIDWVKQPPQPALKRALIAEVARMTGMMHRAGVNHRDCYICHFLLHTDKPVTPEDFKLSVIDLHRAQTRPAITTRWRNKDLAALYFSALDIGLTRRDKLRFLKGYFQQPLRRILAEEASLLAWLEGKANKLYARKQRYGDAL\n",
      ">Seq3 MRLVLEEPFKRLWNGRDPFEAVEALQGKVYRELEGRRTLRTEVDGRGYFVKIHRGIGWGEIAKNLLTAKLPVLGARQEWQAIRRLHEAGVATMTAVAYGERGSDPARQHSFIVTEELAPTVDLEVFSQDWRERPPPPRLKRALVEAVARMVGDMHRAGVNHRDCYICHFLLHTDKPVSADDFRLSVIDLHRAQTRDATPKRWRNKDLAALYFSALDIGLTRRDKLRFLRTYFRRPLREILRDEAGLLAWMERQAEKLYERKQRYGDLL\n",
      ">Seq4 MVELKEPFATLWRGKDPFEEVKTLQGEVFRELETRRTLRFEMAGKSYFLKWHRGTTLKEIIKNLLSLRMPVLGADREWNAIHRLRDVGVDTMYGVAFGEKGMNPLTRTSFIITEDLTPTISLEDYCADWATNPPDVRVKRMLIKRVATMVRDMHAAGINHRDCYICHFLLHLPFSGKEEELKISVIDLHRAQLRTRVPRRWRDKDLIGLYFSSMNIGLTQRDIWRFMKVYFAAPLKDILKQEQGLLSQAEAKATKIRERTIRKSL\n",
      ">Seq5 MVELKEPFATLWRGKDPFEEVKTLQGEVFRELETRRTLRFEMAGKSYFLKWHRGTTLKEIIKNLLSLRMPVLGADREWNAIHRLRDVGVDTMYGVAFGEKGINPLTRTSFIITEDLTPTISLEDYCADWATNPPDVRVKRMLIKRVATMVRDMHAAGINHRDCYICHFLLHLPFSGKEEELKISVIDLHRAQLRTRVPRRWRDKDLIGLYFSSMNIGLTQRDIWRFMKVYFAAPLKDILKQEQGLLSQAEEKATKIRERTIRKSL\n"
     ]
    }
   ],
   "source": [
    "generator = fasta_gen('sequences.fasta')\n",
    "for _ in range(5):\n",
    "    print(*next(generator))"
   ]
  },
  {
   "cell_type": "markdown",
   "metadata": {},
   "source": [
    "2. Напишите класс, производящий чтение последовательностей с небольшими изменениями. (15 баллов) \n",
    "Класс должен иметь конструктор хотя бы с одним аргументом - путь к фаста файлу \n",
    "Объект данного класса должен поддерживать итерацию по нему. Не по атрибутам, а именно по самому объекту. \n",
    "В процессе итерации класс бесконечно перебирает последовательности в файле. Если файл закончился, то итерация продолжается с его начала. \n",
    "При возвращении каждой очередной последовательности класс немного изменяет её с заданной вероятностью (способ задачи вероятности придумайте сами). Можно менять часть аминокислот, делать делеции, вставки и т.д.. Функционал для изменения последовательностей выделите в отдельный(е) метод(ы). \n",
    "Наследоваться запрещается "
   ]
  },
  {
   "cell_type": "code",
   "execution_count": 3,
   "metadata": {},
   "outputs": [],
   "source": [
    "import random"
   ]
  },
  {
   "cell_type": "code",
   "execution_count": 6,
   "metadata": {
    "pycharm": {
     "name": "#%%\n"
    }
   },
   "outputs": [],
   "source": [
    "class Change_Gen:\n",
    "    def __init__(self, path):\n",
    "        self.path = path\n",
    "        self.fasta = fasta_gen(self.path)\n",
    "\n",
    "    def __iter__(self):\n",
    "        return self\n",
    "\n",
    "    def change(self, seq): # deletion\n",
    "        a = random.randint(1,len(seq)-1)\n",
    "        b = random.randint(1,len(seq)-1)\n",
    "        start = min(a, b)\n",
    "        end = max(a, b)\n",
    "        insert = seq[end:] \n",
    "        res = seq[:start] + seq[end:]\n",
    "        return res\n",
    "\n",
    "    def __next__(self):\n",
    "        try:\n",
    "            id_, seq = next(self.fasta)\n",
    "        except StopIteration:\n",
    "            self.fasta = fasta_reader(self.path)\n",
    "            id_, seq = next(self.fasta)\n",
    "        return id_, self.change(seq)"
   ]
  },
  {
   "cell_type": "markdown",
   "metadata": {},
   "source": [
    "**Test for task 2**"
   ]
  },
  {
   "cell_type": "code",
   "execution_count": 7,
   "metadata": {
    "pycharm": {
     "name": "#%%\n"
    }
   },
   "outputs": [
    {
     "name": "stdout",
     "output_type": "stream",
     "text": [
      ">Seq1 MSMNIGLTQRDIWRFMKVYFAAPLKDILKQEQGLLSQAEAKATKIRERTIRKSL\n",
      ">Seq2 MKLMLAEPFKSLWAGRDAFAEVEALKGEVYRELEARRTLRTEVDGRGFFVKIHRGIGWGEIFKNLFTAKLPVLGAGQEWKAIQRLQEVGVPTMTAVAYGEKGSNPADQHSFIVTTRPAITTRWRNKDLAALYFSALDIGLTRRDKLRFLKGYFQQPLRRILAEEASLLAWLEGKANKLYARKQRYGDAL\n",
      ">Seq3 MRLVLEEPFKRLWNGRDPFEAVEALQGKVYRELEGRRTLRTEVDGRGYFVKIHRGIGWGEIAKNLLTAKLPVLGARQEWQAIRRLHEAGVATMTAVAYGERGSDPARQHSFIVTEELAPTVDLEVFSQDWRERPPPPRLKRALVEAVARMVGDMHRAGVNHRDCYICHFLLHTDKPVSADDFRLSVIDLHRAQTRDATPKRWRNEILRDEAGLLAWMERQAEKLYERKQRYGDLL\n",
      ">Seq4 MVELKEPFATLWRGKDPFEEVKTLQGEVFRELETRRTLRFEMAGKSYFLKWHRGTTDILKQEQGLLSQAEAKATKIRERTIRKSL\n",
      ">Seq5 MVELKEPFATLWRGKDPFEEVKTLQGEVFRELETRRTLRFEMAGKSYFLKWHRGTTLKEIIKNLLSLRMPVLGADREIDLHRAQLRTRVPRRWRDKDLIGLYFSSMNIGLTQRDIWRFMKVYFAAPLKDILKQEQGLLSQAEEKATKIRERTIRKSL\n",
      ">Seq6 MVELKEPFATLWRGKDPFEEVKTLQGEVFRELETRRTLRFEMAGKSYFLKWHRGTTLKEIIKNLLSLRMPVLGADREWNAIHRLRDVGVDTMYGVAFGEKGMNPLTRTSFIITEDLTPTISLEDYSADWATNPPDVRVKRMLIKRVATMVRDMHAAGINHRDCYICHFLLHLPFSGKEEELKISVIDLHRAQLRTRVPRRWRDKDLIGLYFSSMNIGLTQRDIWRFKVYFAAPLKDILKQEQGLLSQAEAKATKIRERTIRKSL\n",
      ">Seq7 MVELEEPLATLWRGKDAFAEVKKLNGEVFRELETRRTLRFELAGKSYKDLIGLYFSSMNIGLTQRDIWRFMKVYFGMPLRDIYRLEIDLLKKARIKAGKIEARTIRKNL\n",
      ">Seq8 MVELKAPLTTLWRGKDAFEEVKTLQGEVFRELETRRTLRFELDGKSYFLKWHKGTSLKEIVKNLISLRMPVLGADREWHAIHRLHELGVDTMHGVGFGEKGVNPLTRTSFIITEDLTPTISLEDYCADWAVNPPDAQVKWMIIKRVATMVRKMHAGGINHRDCYICHFLLHLPFTGREEDLKISVIDLHRAQIRQHVPLRWRDKDLIGLYFSSMNIGLTQRDIFRFLQKESGLIHQADVKAARIKERTIRKNL\n",
      ">Seq9 MKLILAEPFKRLWAGRDAFDAVEALQGEVYRELEGRRTLRTEVPVTADDFKLSVIDLHRAQTRARISRRWRDKDLAALYFSALDIGLTQRDKLRFLRGYFQRPLRQVLKDEAALLAWLERKAQKLYDRKQRYGDAL\n",
      ">Seq10 MVELKAPLTTLWRGKDAFEEVKTLQGEVFRELETRRTLRFELDGKSYFLKWHKGTRTIRKNL\n"
     ]
    }
   ],
   "source": [
    "seq = Change_Gen('sequences.fasta')\n",
    "for i in range(10):\n",
    "    print(*next(seq))"
   ]
  }
 ],
 "metadata": {
  "kernelspec": {
   "display_name": "Python 3 (ipykernel)",
   "language": "python",
   "name": "python3"
  },
  "language_info": {
   "codemirror_mode": {
    "name": "ipython",
    "version": 3
   },
   "file_extension": ".py",
   "mimetype": "text/x-python",
   "name": "python",
   "nbconvert_exporter": "python",
   "pygments_lexer": "ipython3",
   "version": "3.9.7"
  }
 },
 "nbformat": 4,
 "nbformat_minor": 1
}
