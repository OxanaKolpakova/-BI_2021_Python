{
 "cells": [
  {
   "cell_type": "code",
   "execution_count": 6,
   "id": "ac64f99a",
   "metadata": {},
   "outputs": [],
   "source": [
    "import requests\n",
    "import re\n",
    "import os\n",
    "from bs4 import BeautifulSoup"
   ]
  },
  {
   "cell_type": "code",
   "execution_count": 49,
   "id": "5f313043",
   "metadata": {},
   "outputs": [],
   "source": [
    "def get_user_info(username):\n",
    "    \n",
    "    path = 'https://github.com/' + username\n",
    "    request = requests.get(path)\n",
    "    soup = BeautifulSoup(request.content)\n",
    "    full_name = soup.find('span', class_=\"p-name vcard-fullname d-block overflow-hidden\")\n",
    "    org = soup.find('span', class_=\"p-org\")\n",
    "    place = soup.find('span', class_=\"p-label\")\n",
    "    followers = soup.find('span', class_=\"text-bold color-fg-default\")\n",
    "    repo_num = soup.find('span', class_=\"Counter\")\n",
    "    if full_name:\n",
    "        full_name = full_name.text.strip()\n",
    "    if org:\n",
    "        org = org.text\n",
    "    if place:\n",
    "        place = place.text\n",
    "    if followers:\n",
    "        followers = followers.text\n",
    "    if repo_num:\n",
    "        repo_num = repo_num.text\n",
    "        \n",
    "    res = {'Name': full_name,\n",
    "          'Organisation': org,\n",
    "          'Place': place,\n",
    "          'Followers': followers,\n",
    "          'Repositories': repo_num}\n",
    "    return res"
   ]
  },
  {
   "cell_type": "code",
   "execution_count": 53,
   "id": "54c8d23a",
   "metadata": {},
   "outputs": [
    {
     "data": {
      "text/plain": [
       "{'Name': 'Anna Toidze',\n",
       " 'Organisation': 'Ruhr University Bochum',\n",
       " 'Place': 'Bochum, Germany',\n",
       " 'Followers': None,\n",
       " 'Repositories': '7'}"
      ]
     },
     "execution_count": 53,
     "metadata": {},
     "output_type": "execute_result"
    }
   ],
   "source": [
    "get_user_info('AnnaToi01')"
   ]
  },
  {
   "cell_type": "code",
   "execution_count": 54,
   "id": "afa87bd7",
   "metadata": {},
   "outputs": [],
   "source": [
    "def get_user_repositories(username): \n",
    "    \n",
    "    path = 'https://github.com/' + username\n",
    "    req = requests.get(path, params = {'tab':'repositories'})\n",
    "    soup = BeautifulSoup(req.content)\n",
    "    res_list = []\n",
    "    all_repo = soup.find_all('a', itemprop=\"name codeRepository\")\n",
    "    all_progleng = soup.find_all('span', itemprop=\"programmingLanguage\")\n",
    "    \n",
    "    for repo, leng in zip(all_repo, all_progleng):\n",
    "        cur_dict = {'Username': username,\n",
    "                   'Repository': repo.text.strip(),\n",
    "                   'Language': leng.text}\n",
    "        res_list.append(cur_dict)\n",
    "        \n",
    "    return res_list\n"
   ]
  },
  {
   "cell_type": "code",
   "execution_count": 55,
   "id": "896105ed",
   "metadata": {},
   "outputs": [
    {
     "data": {
      "text/plain": [
       "[{'Username': 'rusanovaA',\n",
       "  'Repository': 'BI_2021_Python',\n",
       "  'Language': 'Python'},\n",
       " {'Username': 'rusanovaA', 'Repository': 'BI_ML_2022', 'Language': 'Python'}]"
      ]
     },
     "execution_count": 55,
     "metadata": {},
     "output_type": "execute_result"
    }
   ],
   "source": [
    "get_user_repositories('rusanovaA')"
   ]
  }
 ],
 "metadata": {
  "kernelspec": {
   "display_name": "Python 3 (ipykernel)",
   "language": "python",
   "name": "python3"
  },
  "language_info": {
   "codemirror_mode": {
    "name": "ipython",
    "version": 3
   },
   "file_extension": ".py",
   "mimetype": "text/x-python",
   "name": "python",
   "nbconvert_exporter": "python",
   "pygments_lexer": "ipython3",
   "version": "3.9.7"
  }
 },
 "nbformat": 4,
 "nbformat_minor": 5
}
