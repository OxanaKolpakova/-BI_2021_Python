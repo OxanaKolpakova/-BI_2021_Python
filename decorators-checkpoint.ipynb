{
 "cells": [
  {
   "cell_type": "code",
   "execution_count": 2,
   "id": "b654b2fb",
   "metadata": {},
   "outputs": [],
   "source": [
    "import time\n",
    "import random"
   ]
  },
  {
   "cell_type": "markdown",
   "id": "fa06499e",
   "metadata": {},
   "source": [
    "# Task 1"
   ]
  },
  {
   "cell_type": "code",
   "execution_count": 3,
   "id": "d681e2bd",
   "metadata": {},
   "outputs": [],
   "source": [
    "def measure_time(func):\n",
    "    def inner_function(*args, **kwargs):\n",
    "        start = time.time()\n",
    "        result = func(*args, **kwargs)\n",
    "        end = time.time()        \n",
    "        return end - start   \n",
    "    return inner_function"
   ]
  },
  {
   "cell_type": "code",
   "execution_count": 4,
   "id": "affafcc0",
   "metadata": {},
   "outputs": [],
   "source": [
    "@measure_time\n",
    "def some_function(a, b, c, d, e=0, f=2, g=\"3\"):\n",
    "    time.sleep(a)\n",
    "    time.sleep(b)\n",
    "    time.sleep(c)\n",
    "    time.sleep(d)\n",
    "    time.sleep(e)\n",
    "    time.sleep(f)\n",
    "    return g"
   ]
  },
  {
   "cell_type": "code",
   "execution_count": 5,
   "id": "feb64cb9",
   "metadata": {},
   "outputs": [
    {
     "data": {
      "text/plain": [
       "21.05765461921692"
      ]
     },
     "execution_count": 5,
     "metadata": {},
     "output_type": "execute_result"
    }
   ],
   "source": [
    "some_function(a=1, b=2, c=3, d=4, e=5, f=6, g=\"123\")"
   ]
  },
  {
   "cell_type": "markdown",
   "id": "d7d00d09",
   "metadata": {},
   "source": [
    "# Task 2"
   ]
  },
  {
   "cell_type": "code",
   "execution_count": 23,
   "id": "173e7bf8",
   "metadata": {},
   "outputs": [],
   "source": [
    "def function_logging(func):\n",
    "    def inner_function(*args, **kwargs):\n",
    "        result = func(*args, **kwargs)\n",
    "        if args and kwargs:\n",
    "            print(f'Function {func.__name__} is called with positional arguments: {args}'\n",
    "                  f' and keyword arguments: {kwargs}')\n",
    "        elif args and not kwargs:\n",
    "            print(f'Function {func.__name__} is called with positional arguments: {args}')\n",
    "        elif kwargs and not args:\n",
    "            print(f'Function {func.__name__} is called with keyword arguments: {kwargs}')\n",
    "        else:\n",
    "            print(f'Function {func.__name__} is called with no arguments')\n",
    "            \n",
    "        print(f'Function {func.__name__} returns output of type {type(result).__name__}')        \n",
    "        return result    \n",
    "    return inner_function"
   ]
  },
  {
   "cell_type": "code",
   "execution_count": 24,
   "id": "3fd00ddd",
   "metadata": {},
   "outputs": [
    {
     "name": "stdout",
     "output_type": "stream",
     "text": [
      "Function func1 is called with no arguments\n",
      "Function func1 returns output of type set\n",
      "set()\n",
      "\n",
      "Function func2 is called with positional arguments: (1, 2, 3)\n",
      "Function func2 returns output of type float\n",
      "1.0\n",
      "\n",
      "Function func3 is called with positional arguments: (1, 2) and keyword arguments: {'c': 3, 'd': 2}\n",
      "Function func3 returns output of type list\n",
      "[7, 7]\n",
      "\n",
      "Function func4 is called with keyword arguments: {'a': None, 'b': -inf}\n",
      "Function func4 returns output of type dict\n",
      "{None: -inf}\n",
      "\n"
     ]
    }
   ],
   "source": [
    "@function_logging\n",
    "def func1():\n",
    "    return set()\n",
    "\n",
    "@function_logging\n",
    "def func2(a, b, c):\n",
    "    return (a + b) / c\n",
    "\n",
    "@function_logging\n",
    "def func3(a, b, c, d=4):\n",
    "    return [a + b * c] * d\n",
    "\n",
    "@function_logging\n",
    "def func4(a=None, b=None):\n",
    "    return {a: b}\n",
    "\n",
    "print(func1(), end='\\n\\n')\n",
    "print(func2(1, 2, 3), end='\\n\\n')\n",
    "print(func3(1, 2, c=3, d=2), end='\\n\\n')\n",
    "print(func4(a=None, b=float('-inf')), end='\\n\\n')"
   ]
  },
  {
   "cell_type": "markdown",
   "id": "40b05763",
   "metadata": {},
   "source": [
    "# Task 3"
   ]
  },
  {
   "cell_type": "code",
   "execution_count": 28,
   "id": "29f95497",
   "metadata": {},
   "outputs": [],
   "source": [
    "def russian_roulette_decorator(bad_luck, return_value):\n",
    "    def decorator(func):\n",
    "        def inner_function(*args, **kwargs):\n",
    "            func_result = func(*args, **kwargs)\n",
    "            a = random.randint(0, 6)\n",
    "            if a != bad_luck:\n",
    "                return func_result\n",
    "            else:\n",
    "                return return_value\n",
    "        return inner_function\n",
    "    return decorator"
   ]
  },
  {
   "cell_type": "code",
   "execution_count": 29,
   "id": "5840a696",
   "metadata": {},
   "outputs": [],
   "source": [
    "@russian_roulette_decorator(bad_luck=3, return_value='Bad luck')\n",
    "def multiplication(a, b):\n",
    "    return a * b"
   ]
  },
  {
   "cell_type": "code",
   "execution_count": 33,
   "id": "c1715249",
   "metadata": {},
   "outputs": [
    {
     "name": "stdout",
     "output_type": "stream",
     "text": [
      "Bad luck\n",
      "30\n",
      "30\n",
      "Bad luck\n",
      "30\n",
      "30\n",
      "30\n",
      "30\n",
      "30\n",
      "30\n"
     ]
    }
   ],
   "source": [
    "for _ in range(10):\n",
    "    print(multiplication(5,6))"
   ]
  }
 ],
 "metadata": {
  "kernelspec": {
   "display_name": "Python 3 (ipykernel)",
   "language": "python",
   "name": "python3"
  },
  "language_info": {
   "codemirror_mode": {
    "name": "ipython",
    "version": 3
   },
   "file_extension": ".py",
   "mimetype": "text/x-python",
   "name": "python",
   "nbconvert_exporter": "python",
   "pygments_lexer": "ipython3",
   "version": "3.9.7"
  }
 },
 "nbformat": 4,
 "nbformat_minor": 5
}
